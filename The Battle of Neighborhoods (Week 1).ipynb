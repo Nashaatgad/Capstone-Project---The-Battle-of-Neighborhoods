{
    "cells": [
        {
            "cell_type": "markdown",
            "metadata": {
                "collapsed": true
            },
            "source": "# Capstone Project - Battle of the Neighborhoods"
        },
        {
            "cell_type": "markdown",
            "metadata": {},
            "source": "#### Introduction "
        },
        {
            "cell_type": "markdown",
            "metadata": {},
            "source": "This project will analyze neighborhoods between Toronto, Canada and New York City, New York.  A Gad company is looking to move its headquarters to either Toronto or New York City.  The company wants insight into  the neighborhoods and local businesses in the cities so that its employees may have the optimum living standards and quality of life.  This project will explore the similarities and dissimilarities between certain neighborhoods in the two cities, and determine which neighborhoods best fit the culture of the Fortune 500 company\u2019s employees."
        },
        {
            "cell_type": "markdown",
            "metadata": {},
            "source": "#### Data"
        },
        {
            "cell_type": "markdown",
            "metadata": {},
            "source": "The data used for this project will be acquired from the respective cities Wikipedia website pages.  The datasets consists of the postal codes, neighborhood names, latitude, and longitude information for each neighborhood.  Foursquare API search feature will be used to collect neighborhood venue information.  Details about local venues and locality will be provide insight into the qualities of a neighborhood.  In addition to Foursquare, various python packages will be used to create maps and machine learning models to further provide insights into our neighborhood battle project."
        },
        {
            "cell_type": "markdown",
            "metadata": {},
            "source": ""
        }
    ],
    "metadata": {
        "kernelspec": {
            "display_name": "Python 3.6",
            "language": "python",
            "name": "python3"
        },
        "language_info": {
            "codemirror_mode": {
                "name": "ipython",
                "version": 3
            },
            "file_extension": ".py",
            "mimetype": "text/x-python",
            "name": "python",
            "nbconvert_exporter": "python",
            "pygments_lexer": "ipython3",
            "version": "3.6.8"
        }
    },
    "nbformat": 4,
    "nbformat_minor": 1
}